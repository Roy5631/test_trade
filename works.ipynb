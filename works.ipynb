{
 "cells": [
  {
   "cell_type": "code",
   "execution_count": 159,
   "metadata": {},
   "outputs": [
    {
     "name": "stdout",
     "output_type": "stream",
     "text": [
      "Requirement already satisfied: coincheck in /Users/ryogo/opt/anaconda3/lib/python3.7/site-packages (0.1.11)\n",
      "Requirement already satisfied: requests==2.20.0 in /Users/ryogo/opt/anaconda3/lib/python3.7/site-packages (from coincheck) (2.20.0)\n",
      "Requirement already satisfied: pytz==2016.7 in /Users/ryogo/opt/anaconda3/lib/python3.7/site-packages (from coincheck) (2016.7)\n",
      "Requirement already satisfied: simplejson==3.8.1 in /Users/ryogo/opt/anaconda3/lib/python3.7/site-packages (from coincheck) (3.8.1)\n",
      "Requirement already satisfied: idna<2.8,>=2.5 in /Users/ryogo/opt/anaconda3/lib/python3.7/site-packages (from requests==2.20.0->coincheck) (2.7)\n",
      "Requirement already satisfied: urllib3<1.25,>=1.21.1 in /Users/ryogo/opt/anaconda3/lib/python3.7/site-packages (from requests==2.20.0->coincheck) (1.24.3)\n",
      "Requirement already satisfied: chardet<3.1.0,>=3.0.2 in /Users/ryogo/opt/anaconda3/lib/python3.7/site-packages (from requests==2.20.0->coincheck) (3.0.4)\n",
      "Requirement already satisfied: certifi>=2017.4.17 in /Users/ryogo/opt/anaconda3/lib/python3.7/site-packages (from requests==2.20.0->coincheck) (2020.12.5)\n"
     ]
    }
   ],
   "source": [
    "!pip install coincheck"
   ]
  },
  {
   "cell_type": "code",
   "execution_count": 24,
   "metadata": {},
   "outputs": [],
   "source": [
    "import json\n",
    "f=open(\"keys.json\",\"r\")\n",
    "g=json.load(f)\n",
    "secret_key=g[\"secret_key\"]\n",
    "access_key=g[\"access_key\"]\n",
    "line_notify_token=g[\"line_notify_token\"]"
   ]
  },
  {
   "cell_type": "code",
   "execution_count": 147,
   "metadata": {},
   "outputs": [],
   "source": [
    "#過去のレートを取得する(dtはdatetime型)dtの時のレート\n",
    "import datetime\n",
    "import requests\n",
    "import json\n",
    "def pastrate(pair,dt):\n",
    "    URL = 'https://coincheck.com/ja/exchange/rates/search'\n",
    "    t=datetime.timedelta(hours=9)\n",
    "    dt-=t\n",
    "    dt=str(dt)\n",
    "    a,b=dt.split()\n",
    "    time=\"{}T{}.000Z\".format(a,b)\n",
    "    res=requests.get(URL,params={\"pair\":pair,\"time\":time}).json()\n",
    "    return float(res[\"rate\"]),res[\"time\"]"
   ]
  },
  {
   "cell_type": "code",
   "execution_count": 233,
   "metadata": {},
   "outputs": [],
   "source": [
    "#~~T~~Zの形を、datetime型に変える\n",
    "def henkan(s):\n",
    "    s=s[:-1].split(\"T\")\n",
    "    a=s[0].split(\"-\")\n",
    "    b=s[1].split(\":\")\n",
    "    c=b[-1].split(\".\")\n",
    "    dt=datetime.datetime(int(a[0]), int(a[1]), int(a[2]), \n",
    "                         int(b[0]), int(b[1]), int(c[0]), int(c[1].zfill(1)+\"000\"))\n",
    "    dt+=datetime.timedelta(hours=9)\n",
    "    return dt"
   ]
  },
  {
   "cell_type": "code",
   "execution_count": 250,
   "metadata": {},
   "outputs": [],
   "source": [
    "def henkan1(s):\n",
    "    dt=str(s)\n",
    "    a,b=dt.split()\n",
    "    time=\"{}T{}.000Z\".format(a,b)\n",
    "    return time"
   ]
  },
  {
   "cell_type": "code",
   "execution_count": 148,
   "metadata": {},
   "outputs": [],
   "source": [
    "#データを指定したpair,回数,間隔でとってきて作る\n",
    "import datetime\n",
    "import pandas as pd\n",
    "def mkdata(pair,n,days=0,hours=0,minutes=0):\n",
    "    t=datetime.timedelta(days=days,hours=hours,minutes=minutes)\n",
    "    dt=datetime.datetime.now()\n",
    "    data=[]\n",
    "    tdata=[]\n",
    "    for i in range(1,n+1):\n",
    "        dt1=dt-(n-i)*t\n",
    "        rate,time=pastrate(pair,dt1)\n",
    "        data.append(rate)\n",
    "        tdata.append(time)\n",
    "    ans={\"time\":tdata,\"rate\":data}\n",
    "    ans=pd.DataFrame(ans)\n",
    "    return ans"
   ]
  },
  {
   "cell_type": "code",
   "execution_count": 149,
   "metadata": {},
   "outputs": [],
   "source": [
    "#n日移動平均を足す\n",
    "def mv(data,n):\n",
    "    data[\"mv\"+str(n)]=data[\"rate\"].rolling(n).mean()\n",
    "    return data"
   ]
  },
  {
   "cell_type": "code",
   "execution_count": 150,
   "metadata": {},
   "outputs": [],
   "source": [
    "#n日のrsiを追加\n",
    "def rsi(data,n):\n",
    "    diff=data[\"rate\"].diff()\n",
    "    up=diff.copy()\n",
    "    down=diff.copy()\n",
    "    up[up<0]=0\n",
    "    down[down>0]=0\n",
    "    up=up.rolling(n).mean()\n",
    "    down=down.abs().rolling(n).mean()\n",
    "    data[\"rsi\"]=up/(up+down)*100\n",
    "    return data"
   ]
  },
  {
   "cell_type": "code",
   "execution_count": 151,
   "metadata": {},
   "outputs": [],
   "source": [
    "#kσ区間のボリンジャーバンドn個の標準偏差を用いる\n",
    "def bband(data,n=20,k=2):\n",
    "    mean=data[\"rate\"].rolling(n).mean()\n",
    "    std=data[\"rate\"].rolling(n).std()\n",
    "    data[\"bbup\"]=mean+(std*k)\n",
    "    data[\"bbdown\"]=mean-(std*k)\n",
    "    return data"
   ]
  },
  {
   "cell_type": "code",
   "execution_count": 152,
   "metadata": {},
   "outputs": [],
   "source": [
    "#n個前からの線形回帰\n",
    "from sklearn.linear_model import LinearRegression\n",
    "import numpy as np\n",
    "\n",
    "def liner(data,n=len(data)):\n",
    "    t=np.array(data[\"rate\"])\n",
    "    x=np.arange(n).reshape(-1, 1)\n",
    "    result=LinearRegression().fit(x,t[len(data)-n:].reshape(-1, 1))\n",
    "    a=result.coef_[0][0]\n",
    "    b=result.intercept_[0]\n",
    "    y=[]\n",
    "    for i in range(n):\n",
    "        y.append(a*i+b)\n",
    "    data[\"liner\"]=pd.Series(y,index=[len(data)-n+i for i in range(n)])\n",
    "    return data"
   ]
  },
  {
   "cell_type": "code",
   "execution_count": 244,
   "metadata": {},
   "outputs": [],
   "source": [
    "import matplotlib.pyplot as plt\n",
    "def bunseki(pair,data):\n",
    "    data=mv(data,3)\n",
    "    data=mv(data,7)\n",
    "    data=rsi(data,7)\n",
    "    data=bband(data,20)\n",
    "    data=liner(data,100)\n",
    "    return data"
   ]
  },
  {
   "cell_type": "code",
   "execution_count": 196,
   "metadata": {},
   "outputs": [],
   "source": [
    "#残高(balance),未解決の買い(jpy)売り(その他)注文に利用している合計\n",
    "from coincheck import account\n",
    "def getinfo(secret_key,access_key):\n",
    "    a = account.Account(secret_key=secret_key, access_key=access_key)\n",
    "    s=a.get_balance()\n",
    "    dic={\"name\":['jpy','btc','eth','etc',\n",
    "                 'lsk','fct','xrp','xem',\n",
    "                 'ltc','bch','mona','xlm',\n",
    "                 'qtum','bat','iost','enj'],\n",
    "         \"balance\":[s['jpy'],s['btc'],s['eth'],s['etc'],\n",
    "                 s['lsk'],s['fct'],s['xrp'],s['xem'],s['ltc'],\n",
    "                 s['bch'],s['mona'],s['xlm'],s['qtum'],\n",
    "                 s['bat'],s['iost'],s['enj']],\n",
    "        \"reserved\":[s['jpy_reserved'],s['btc_reserved'],s['eth_reserved'],s['etc_reserved'],\n",
    "                    s['lsk_reserved'],s['fct_reserved'],s['xrp_reserved'],s['xem_reserved'],\n",
    "                    s['ltc_reserved'],s['bch_reserved'],s['mona_reserved'],s['xlm_reserved'],\n",
    "                    s['qtum_reserved'],s['bat_reserved'],s['iost_reserved'],s['enj_reserved']]}\n",
    "    dic=pd.DataFrame(dic)\n",
    "    return dic"
   ]
  },
  {
   "cell_type": "code",
   "execution_count": 202,
   "metadata": {},
   "outputs": [],
   "source": [
    "import requests\n",
    "def note(line_notify_token,message):\n",
    "    line_notify_token = line_notify_token\n",
    "    line_notify_api = 'https://notify-api.line.me/api/notify'\n",
    "    payload = {'message': message}\n",
    "    headers = {'Authorization': 'Bearer ' + line_notify_token} \n",
    "    return requests.post(line_notify_api, data=payload, headers=headers)"
   ]
  },
  {
   "cell_type": "code",
   "execution_count": null,
   "metadata": {},
   "outputs": [],
   "source": [
    "def buy(f,t,rate,amount):\n",
    "    o = order.Order(secret_key=secret_key,access_key=access_key)\n",
    "    "
   ]
  },
  {
   "cell_type": "code",
   "execution_count": 197,
   "metadata": {},
   "outputs": [
    {
     "data": {
      "text/html": [
       "<div>\n",
       "<style scoped>\n",
       "    .dataframe tbody tr th:only-of-type {\n",
       "        vertical-align: middle;\n",
       "    }\n",
       "\n",
       "    .dataframe tbody tr th {\n",
       "        vertical-align: top;\n",
       "    }\n",
       "\n",
       "    .dataframe thead th {\n",
       "        text-align: right;\n",
       "    }\n",
       "</style>\n",
       "<table border=\"1\" class=\"dataframe\">\n",
       "  <thead>\n",
       "    <tr style=\"text-align: right;\">\n",
       "      <th></th>\n",
       "      <th>name</th>\n",
       "      <th>balance</th>\n",
       "      <th>reserved</th>\n",
       "    </tr>\n",
       "  </thead>\n",
       "  <tbody>\n",
       "    <tr>\n",
       "      <th>0</th>\n",
       "      <td>jpy</td>\n",
       "      <td>10000.0</td>\n",
       "      <td>0.0</td>\n",
       "    </tr>\n",
       "    <tr>\n",
       "      <th>1</th>\n",
       "      <td>btc</td>\n",
       "      <td>0</td>\n",
       "      <td>0.0</td>\n",
       "    </tr>\n",
       "    <tr>\n",
       "      <th>2</th>\n",
       "      <td>eth</td>\n",
       "      <td>0</td>\n",
       "      <td>0.0</td>\n",
       "    </tr>\n",
       "    <tr>\n",
       "      <th>3</th>\n",
       "      <td>etc</td>\n",
       "      <td>0</td>\n",
       "      <td>0.0</td>\n",
       "    </tr>\n",
       "    <tr>\n",
       "      <th>4</th>\n",
       "      <td>lsk</td>\n",
       "      <td>0</td>\n",
       "      <td>0.0</td>\n",
       "    </tr>\n",
       "    <tr>\n",
       "      <th>5</th>\n",
       "      <td>fct</td>\n",
       "      <td>0</td>\n",
       "      <td>0.0</td>\n",
       "    </tr>\n",
       "    <tr>\n",
       "      <th>6</th>\n",
       "      <td>xrp</td>\n",
       "      <td>0</td>\n",
       "      <td>0.0</td>\n",
       "    </tr>\n",
       "    <tr>\n",
       "      <th>7</th>\n",
       "      <td>xem</td>\n",
       "      <td>0</td>\n",
       "      <td>0.0</td>\n",
       "    </tr>\n",
       "    <tr>\n",
       "      <th>8</th>\n",
       "      <td>ltc</td>\n",
       "      <td>0</td>\n",
       "      <td>0.0</td>\n",
       "    </tr>\n",
       "    <tr>\n",
       "      <th>9</th>\n",
       "      <td>bch</td>\n",
       "      <td>0</td>\n",
       "      <td>0.0</td>\n",
       "    </tr>\n",
       "    <tr>\n",
       "      <th>10</th>\n",
       "      <td>mona</td>\n",
       "      <td>0</td>\n",
       "      <td>0.0</td>\n",
       "    </tr>\n",
       "    <tr>\n",
       "      <th>11</th>\n",
       "      <td>xlm</td>\n",
       "      <td>0</td>\n",
       "      <td>0.0</td>\n",
       "    </tr>\n",
       "    <tr>\n",
       "      <th>12</th>\n",
       "      <td>qtum</td>\n",
       "      <td>0</td>\n",
       "      <td>0.0</td>\n",
       "    </tr>\n",
       "    <tr>\n",
       "      <th>13</th>\n",
       "      <td>bat</td>\n",
       "      <td>0</td>\n",
       "      <td>0.0</td>\n",
       "    </tr>\n",
       "    <tr>\n",
       "      <th>14</th>\n",
       "      <td>iost</td>\n",
       "      <td>0</td>\n",
       "      <td>0.0</td>\n",
       "    </tr>\n",
       "    <tr>\n",
       "      <th>15</th>\n",
       "      <td>enj</td>\n",
       "      <td>0</td>\n",
       "      <td>0.0</td>\n",
       "    </tr>\n",
       "  </tbody>\n",
       "</table>\n",
       "</div>"
      ],
      "text/plain": [
       "    name  balance reserved\n",
       "0    jpy  10000.0      0.0\n",
       "1    btc        0      0.0\n",
       "2    eth        0      0.0\n",
       "3    etc        0      0.0\n",
       "4    lsk        0      0.0\n",
       "5    fct        0      0.0\n",
       "6    xrp        0      0.0\n",
       "7    xem        0      0.0\n",
       "8    ltc        0      0.0\n",
       "9    bch        0      0.0\n",
       "10  mona        0      0.0\n",
       "11   xlm        0      0.0\n",
       "12  qtum        0      0.0\n",
       "13   bat        0      0.0\n",
       "14  iost        0      0.0\n",
       "15   enj        0      0.0"
      ]
     },
     "execution_count": 197,
     "metadata": {},
     "output_type": "execute_result"
    }
   ],
   "source": [
    "getinfo(secret_key,access_key)"
   ]
  },
  {
   "cell_type": "code",
   "execution_count": 234,
   "metadata": {},
   "outputs": [
    {
     "name": "stdout",
     "output_type": "stream",
     "text": [
      "['2021-02-08', '11:35:47.005']\n",
      "['2021', '02', '08']\n",
      "['11', '35', '47.005']\n",
      "2021-02-08 11:35:47.005000\n"
     ]
    }
   ],
   "source": [
    "s1=\"2021-02-08T11:35:47.005Z\"\n",
    "s=s1[:-1].split(\"T\")\n",
    "print(s)\n",
    "a=s[0].split(\"-\")\n",
    "b=s[1].split(\":\")\n",
    "print(a)\n",
    "print(b)\n",
    "print(henkan(s1))"
   ]
  },
  {
   "cell_type": "code",
   "execution_count": 251,
   "metadata": {},
   "outputs": [
    {
     "name": "stdout",
     "output_type": "stream",
     "text": [
      "                       time       rate\n",
      "0  2021-02-08T14:15:54.045Z  4526099.0\n",
      "1  2021-02-08T14:20:54.045Z  4526099.0\n"
     ]
    },
    {
     "ename": "ValueError",
     "evalue": "cannot set a row with mismatched columns",
     "output_type": "error",
     "traceback": [
      "\u001b[0;31m---------------------------------------------------------------------------\u001b[0m",
      "\u001b[0;31mValueError\u001b[0m                                Traceback (most recent call last)",
      "\u001b[0;32m<ipython-input-251-64fee2645282>\u001b[0m in \u001b[0;36m<module>\u001b[0;34m\u001b[0m\n\u001b[1;32m      1\u001b[0m \u001b[0mdata2\u001b[0m\u001b[0;34m=\u001b[0m\u001b[0mmkdata\u001b[0m\u001b[0;34m(\u001b[0m\u001b[0;34m\"btc_jpy\"\u001b[0m\u001b[0;34m,\u001b[0m\u001b[0;36m2\u001b[0m\u001b[0;34m,\u001b[0m\u001b[0mminutes\u001b[0m\u001b[0;34m=\u001b[0m\u001b[0;36m5\u001b[0m\u001b[0;34m)\u001b[0m\u001b[0;34m\u001b[0m\u001b[0;34m\u001b[0m\u001b[0m\n\u001b[1;32m      2\u001b[0m \u001b[0mprint\u001b[0m\u001b[0;34m(\u001b[0m\u001b[0mdata2\u001b[0m\u001b[0;34m)\u001b[0m\u001b[0;34m\u001b[0m\u001b[0;34m\u001b[0m\u001b[0m\n\u001b[0;32m----> 3\u001b[0;31m \u001b[0mdata2\u001b[0m\u001b[0;34m.\u001b[0m\u001b[0mloc\u001b[0m\u001b[0;34m[\u001b[0m\u001b[0;36m2\u001b[0m\u001b[0;34m]\u001b[0m\u001b[0;34m=\u001b[0m\u001b[0;34m[\u001b[0m\u001b[0;34m\"098\"\u001b[0m\u001b[0;34m]\u001b[0m\u001b[0;34m\u001b[0m\u001b[0;34m\u001b[0m\u001b[0m\n\u001b[0m\u001b[1;32m      4\u001b[0m \u001b[0mprint\u001b[0m\u001b[0;34m(\u001b[0m\u001b[0mdata2\u001b[0m\u001b[0;34m)\u001b[0m\u001b[0;34m\u001b[0m\u001b[0;34m\u001b[0m\u001b[0m\n",
      "\u001b[0;32m~/opt/anaconda3/lib/python3.7/site-packages/pandas/core/indexing.py\u001b[0m in \u001b[0;36m__setitem__\u001b[0;34m(self, key, value)\u001b[0m\n\u001b[1;32m    668\u001b[0m \u001b[0;34m\u001b[0m\u001b[0m\n\u001b[1;32m    669\u001b[0m         \u001b[0miloc\u001b[0m \u001b[0;34m=\u001b[0m \u001b[0mself\u001b[0m \u001b[0;32mif\u001b[0m \u001b[0mself\u001b[0m\u001b[0;34m.\u001b[0m\u001b[0mname\u001b[0m \u001b[0;34m==\u001b[0m \u001b[0;34m\"iloc\"\u001b[0m \u001b[0;32melse\u001b[0m \u001b[0mself\u001b[0m\u001b[0;34m.\u001b[0m\u001b[0mobj\u001b[0m\u001b[0;34m.\u001b[0m\u001b[0miloc\u001b[0m\u001b[0;34m\u001b[0m\u001b[0;34m\u001b[0m\u001b[0m\n\u001b[0;32m--> 670\u001b[0;31m         \u001b[0miloc\u001b[0m\u001b[0;34m.\u001b[0m\u001b[0m_setitem_with_indexer\u001b[0m\u001b[0;34m(\u001b[0m\u001b[0mindexer\u001b[0m\u001b[0;34m,\u001b[0m \u001b[0mvalue\u001b[0m\u001b[0;34m)\u001b[0m\u001b[0;34m\u001b[0m\u001b[0;34m\u001b[0m\u001b[0m\n\u001b[0m\u001b[1;32m    671\u001b[0m \u001b[0;34m\u001b[0m\u001b[0m\n\u001b[1;32m    672\u001b[0m     \u001b[0;32mdef\u001b[0m \u001b[0m_validate_key\u001b[0m\u001b[0;34m(\u001b[0m\u001b[0mself\u001b[0m\u001b[0;34m,\u001b[0m \u001b[0mkey\u001b[0m\u001b[0;34m,\u001b[0m \u001b[0maxis\u001b[0m\u001b[0;34m:\u001b[0m \u001b[0mint\u001b[0m\u001b[0;34m)\u001b[0m\u001b[0;34m:\u001b[0m\u001b[0;34m\u001b[0m\u001b[0;34m\u001b[0m\u001b[0m\n",
      "\u001b[0;32m~/opt/anaconda3/lib/python3.7/site-packages/pandas/core/indexing.py\u001b[0m in \u001b[0;36m_setitem_with_indexer\u001b[0;34m(self, indexer, value)\u001b[0m\n\u001b[1;32m   1624\u001b[0m \u001b[0;34m\u001b[0m\u001b[0m\n\u001b[1;32m   1625\u001b[0m             \u001b[0;32mif\u001b[0m \u001b[0mmissing\u001b[0m\u001b[0;34m:\u001b[0m\u001b[0;34m\u001b[0m\u001b[0;34m\u001b[0m\u001b[0m\n\u001b[0;32m-> 1626\u001b[0;31m                 \u001b[0mself\u001b[0m\u001b[0;34m.\u001b[0m\u001b[0m_setitem_with_indexer_missing\u001b[0m\u001b[0;34m(\u001b[0m\u001b[0mindexer\u001b[0m\u001b[0;34m,\u001b[0m \u001b[0mvalue\u001b[0m\u001b[0;34m)\u001b[0m\u001b[0;34m\u001b[0m\u001b[0;34m\u001b[0m\u001b[0m\n\u001b[0m\u001b[1;32m   1627\u001b[0m                 \u001b[0;32mreturn\u001b[0m\u001b[0;34m\u001b[0m\u001b[0;34m\u001b[0m\u001b[0m\n\u001b[1;32m   1628\u001b[0m \u001b[0;34m\u001b[0m\u001b[0m\n",
      "\u001b[0;32m~/opt/anaconda3/lib/python3.7/site-packages/pandas/core/indexing.py\u001b[0m in \u001b[0;36m_setitem_with_indexer_missing\u001b[0;34m(self, indexer, value)\u001b[0m\n\u001b[1;32m   1856\u001b[0m                     \u001b[0;31m# must have conforming columns\u001b[0m\u001b[0;34m\u001b[0m\u001b[0;34m\u001b[0m\u001b[0;34m\u001b[0m\u001b[0m\n\u001b[1;32m   1857\u001b[0m                     \u001b[0;32mif\u001b[0m \u001b[0mlen\u001b[0m\u001b[0;34m(\u001b[0m\u001b[0mvalue\u001b[0m\u001b[0;34m)\u001b[0m \u001b[0;34m!=\u001b[0m \u001b[0mlen\u001b[0m\u001b[0;34m(\u001b[0m\u001b[0mself\u001b[0m\u001b[0;34m.\u001b[0m\u001b[0mobj\u001b[0m\u001b[0;34m.\u001b[0m\u001b[0mcolumns\u001b[0m\u001b[0;34m)\u001b[0m\u001b[0;34m:\u001b[0m\u001b[0;34m\u001b[0m\u001b[0;34m\u001b[0m\u001b[0m\n\u001b[0;32m-> 1858\u001b[0;31m                         \u001b[0;32mraise\u001b[0m \u001b[0mValueError\u001b[0m\u001b[0;34m(\u001b[0m\u001b[0;34m\"cannot set a row with mismatched columns\"\u001b[0m\u001b[0;34m)\u001b[0m\u001b[0;34m\u001b[0m\u001b[0;34m\u001b[0m\u001b[0m\n\u001b[0m\u001b[1;32m   1859\u001b[0m \u001b[0;34m\u001b[0m\u001b[0m\n\u001b[1;32m   1860\u001b[0m                 \u001b[0mvalue\u001b[0m \u001b[0;34m=\u001b[0m \u001b[0mSeries\u001b[0m\u001b[0;34m(\u001b[0m\u001b[0mvalue\u001b[0m\u001b[0;34m,\u001b[0m \u001b[0mindex\u001b[0m\u001b[0;34m=\u001b[0m\u001b[0mself\u001b[0m\u001b[0;34m.\u001b[0m\u001b[0mobj\u001b[0m\u001b[0;34m.\u001b[0m\u001b[0mcolumns\u001b[0m\u001b[0;34m,\u001b[0m \u001b[0mname\u001b[0m\u001b[0;34m=\u001b[0m\u001b[0mindexer\u001b[0m\u001b[0;34m)\u001b[0m\u001b[0;34m\u001b[0m\u001b[0;34m\u001b[0m\u001b[0m\n",
      "\u001b[0;31mValueError\u001b[0m: cannot set a row with mismatched columns"
     ]
    }
   ],
   "source": [
    "data2=mkdata(\"btc_jpy\",2,minutes=5)\n",
    "print(data2)\n",
    "data2.loc[2]=[\"098\"]\n",
    "print(data2)"
   ]
  },
  {
   "cell_type": "code",
   "execution_count": 253,
   "metadata": {},
   "outputs": [
    {
     "data": {
      "text/plain": [
       "<AxesSubplot:>"
      ]
     },
     "execution_count": 253,
     "metadata": {},
     "output_type": "execute_result"
    },
    {
     "data": {
      "image/png": "[encoded data removed]",
      "text/plain": [
       "<Figure size 432x288 with 1 Axes>"
      ]
     },
     "metadata": {
      "needs_background": "light"
     },
     "output_type": "display_data"
    }
   ],
   "source": [
    "data1=mkdata(\"lsk_jpy\",200,minutes=5)\n",
    "data1=bunseki(\"lsk_jpy\",data1)\n",
    "data1.plot(y=[\"mv3\",\"mv7\",\"bbup\",\"bbdown\",\"liner\"])"
   ]
  },
  {
   "cell_type": "code",
   "execution_count": 203,
   "metadata": {},
   "outputs": [
    {
     "data": {
      "text/plain": [
       "<Response [200]>"
      ]
     },
     "execution_count": 203,
     "metadata": {},
     "output_type": "execute_result"
    }
   ],
   "source": [
    "message = 'テスト通知'\n",
    "note(line_notify_token,message)"
   ]
  },
  {
   "cell_type": "code",
   "execution_count": 235,
   "metadata": {},
   "outputs": [
    {
     "name": "stdout",
     "output_type": "stream",
     "text": [
      "2021-02-08T12:14:30.239Z\n",
      "2\n"
     ]
    }
   ],
   "source": [
    "d=mkdata(\"btc_jpy\",3,minutes=5)\n",
    "print(d[\"time\"][len(d)-1])\n",
    "print(len(d)-1)"
   ]
  },
  {
   "cell_type": "code",
   "execution_count": null,
   "metadata": {},
   "outputs": [],
   "source": [
    "#与えられたpair,データ数,間隔で分析する\n",
    "def go(pair,n,days=0,hours=0,minutes=0):\n",
    "    data=mkdata(pair,n,days=days,hours=hours,minutes=minutes)\n",
    "    next_time=data[\"time\"][len(d)-1]+datetime.timedelta(days=days,hours=hours,minutes=minutes)\n",
    "    while True:\n",
    "        next_list=[]\n",
    "        next_list.append(henkan1(next_time))\n",
    "        next_list.append\n",
    "        "
   ]
  },
  {
   "cell_type": "code",
   "execution_count": null,
   "metadata": {},
   "outputs": [],
   "source": []
  }
 ],
 "metadata": {
  "kernelspec": {
   "display_name": "Python 3",
   "language": "python",
   "name": "python3"
  },
  "language_info": {
   "codemirror_mode": {
    "name": "ipython",
    "version": 3
   },
   "file_extension": ".py",
   "mimetype": "text/x-python",
   "name": "python",
   "nbconvert_exporter": "python",
   "pygments_lexer": "ipython3",
   "version": "3.7.4"
  }
 },
 "nbformat": 4,
 "nbformat_minor": 4
}
